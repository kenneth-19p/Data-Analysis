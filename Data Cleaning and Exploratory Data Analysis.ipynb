{
 "cells": [
  {
   "cell_type": "code",
   "id": "initial_id",
   "metadata": {
    "collapsed": true,
    "ExecuteTime": {
     "end_time": "2024-04-25T00:43:18.400136Z",
     "start_time": "2024-04-25T00:43:18.395656Z"
    }
   },
   "source": [
    "import pandas as pd\n",
    "import numpy as np\n",
    "import matplotlib.pyplot as plt\n",
    "import seaborn as sns"
   ],
   "outputs": [],
   "execution_count": 61
  },
  {
   "metadata": {
    "ExecuteTime": {
     "end_time": "2024-04-25T00:43:26.126192Z",
     "start_time": "2024-04-25T00:43:18.712526Z"
    }
   },
   "cell_type": "code",
   "source": [
    "df = pd.read_excel(\"C:\\\\Users\\\\warlo\\\\Downloads\\\\Project1_Kenneth Pieterson.xlsx\")\n",
    "df"
   ],
   "id": "b794a09368f1e328",
   "outputs": [
    {
     "data": {
      "text/plain": [
       "      InvoiceNo         Supplier                          Description  \\\n",
       "0        536365    Computer & Co   WHITE HANGING HEART T-LIGHT HOLDER   \n",
       "1        536365    Computer & Co                  WHITE METAL LANTERN   \n",
       "2        536365    Computer & Co       CREAM CUPID HEARTS COAT HANGER   \n",
       "3        536365    Computer & Co  KNITTED UNION FLAG HOT WATER BOTTLE   \n",
       "4        536365    Computer & Co       RED WOOLLY HOTTIE WHITE HEART.   \n",
       "...         ...              ...                                  ...   \n",
       "1232     536532  Office Supplies               PLASTERS IN TIN SKULLS   \n",
       "1233     536532  Office Supplies             PLASTERS IN TIN SPACEBOY   \n",
       "1234     536532  Office Supplies                MINI JIGSAW DINOSAUR    \n",
       "1235     536532  Office Supplies                 MINI JIGSAW SPACEBOY   \n",
       "1236     536532  Office Supplies             MINI JIGSAW BAKE A CAKE    \n",
       "\n",
       "      Quantity         InvoiceDate  UnitPrice  CustomerID Currency  \\\n",
       "0            6 2010-12-01 08:26:00       2.55       17850      GBP   \n",
       "1            6 2010-12-01 08:26:00       3.39       17850      GBP   \n",
       "2            8 2010-12-01 08:26:00       2.75       17850      GBP   \n",
       "3            6 2010-12-01 08:26:00       3.39       17850      GBP   \n",
       "4            6 2010-12-01 08:26:00       3.39       17850      GBP   \n",
       "...        ...                 ...        ...         ...      ...   \n",
       "1232        24 2010-12-01 13:24:00       1.65       12433      NOK   \n",
       "1233        24 2010-12-01 13:24:00       1.65       12433      NOK   \n",
       "1234        24 2010-12-01 13:24:00       0.42       12433      NOK   \n",
       "1235        24 2010-12-01 13:24:00       0.42       12433      NOK   \n",
       "1236        24 2010-12-01 13:24:00       0.42       12433      NOK   \n",
       "\n",
       "             Country  Amount  AMT (WHOLE)  \n",
       "0     United Kingdom   15.30        15.30  \n",
       "1     United Kingdom   20.34        20.34  \n",
       "2     United Kingdom   22.00        22.00  \n",
       "3     United Kingdom   20.34        20.34  \n",
       "4     United Kingdom   20.34        20.34  \n",
       "...              ...     ...          ...  \n",
       "1232          Norway   39.60        39.60  \n",
       "1233          Norway   39.60        39.60  \n",
       "1234          Norway   10.08        10.08  \n",
       "1235          Norway   10.08        10.08  \n",
       "1236          Norway   10.08        10.08  \n",
       "\n",
       "[1237 rows x 11 columns]"
      ],
      "text/html": [
       "<div>\n",
       "<style scoped>\n",
       "    .dataframe tbody tr th:only-of-type {\n",
       "        vertical-align: middle;\n",
       "    }\n",
       "\n",
       "    .dataframe tbody tr th {\n",
       "        vertical-align: top;\n",
       "    }\n",
       "\n",
       "    .dataframe thead th {\n",
       "        text-align: right;\n",
       "    }\n",
       "</style>\n",
       "<table border=\"1\" class=\"dataframe\">\n",
       "  <thead>\n",
       "    <tr style=\"text-align: right;\">\n",
       "      <th></th>\n",
       "      <th>InvoiceNo</th>\n",
       "      <th>Supplier</th>\n",
       "      <th>Description</th>\n",
       "      <th>Quantity</th>\n",
       "      <th>InvoiceDate</th>\n",
       "      <th>UnitPrice</th>\n",
       "      <th>CustomerID</th>\n",
       "      <th>Currency</th>\n",
       "      <th>Country</th>\n",
       "      <th>Amount</th>\n",
       "      <th>AMT (WHOLE)</th>\n",
       "    </tr>\n",
       "  </thead>\n",
       "  <tbody>\n",
       "    <tr>\n",
       "      <th>0</th>\n",
       "      <td>536365</td>\n",
       "      <td>Computer &amp; Co</td>\n",
       "      <td>WHITE HANGING HEART T-LIGHT HOLDER</td>\n",
       "      <td>6</td>\n",
       "      <td>2010-12-01 08:26:00</td>\n",
       "      <td>2.55</td>\n",
       "      <td>17850</td>\n",
       "      <td>GBP</td>\n",
       "      <td>United Kingdom</td>\n",
       "      <td>15.30</td>\n",
       "      <td>15.30</td>\n",
       "    </tr>\n",
       "    <tr>\n",
       "      <th>1</th>\n",
       "      <td>536365</td>\n",
       "      <td>Computer &amp; Co</td>\n",
       "      <td>WHITE METAL LANTERN</td>\n",
       "      <td>6</td>\n",
       "      <td>2010-12-01 08:26:00</td>\n",
       "      <td>3.39</td>\n",
       "      <td>17850</td>\n",
       "      <td>GBP</td>\n",
       "      <td>United Kingdom</td>\n",
       "      <td>20.34</td>\n",
       "      <td>20.34</td>\n",
       "    </tr>\n",
       "    <tr>\n",
       "      <th>2</th>\n",
       "      <td>536365</td>\n",
       "      <td>Computer &amp; Co</td>\n",
       "      <td>CREAM CUPID HEARTS COAT HANGER</td>\n",
       "      <td>8</td>\n",
       "      <td>2010-12-01 08:26:00</td>\n",
       "      <td>2.75</td>\n",
       "      <td>17850</td>\n",
       "      <td>GBP</td>\n",
       "      <td>United Kingdom</td>\n",
       "      <td>22.00</td>\n",
       "      <td>22.00</td>\n",
       "    </tr>\n",
       "    <tr>\n",
       "      <th>3</th>\n",
       "      <td>536365</td>\n",
       "      <td>Computer &amp; Co</td>\n",
       "      <td>KNITTED UNION FLAG HOT WATER BOTTLE</td>\n",
       "      <td>6</td>\n",
       "      <td>2010-12-01 08:26:00</td>\n",
       "      <td>3.39</td>\n",
       "      <td>17850</td>\n",
       "      <td>GBP</td>\n",
       "      <td>United Kingdom</td>\n",
       "      <td>20.34</td>\n",
       "      <td>20.34</td>\n",
       "    </tr>\n",
       "    <tr>\n",
       "      <th>4</th>\n",
       "      <td>536365</td>\n",
       "      <td>Computer &amp; Co</td>\n",
       "      <td>RED WOOLLY HOTTIE WHITE HEART.</td>\n",
       "      <td>6</td>\n",
       "      <td>2010-12-01 08:26:00</td>\n",
       "      <td>3.39</td>\n",
       "      <td>17850</td>\n",
       "      <td>GBP</td>\n",
       "      <td>United Kingdom</td>\n",
       "      <td>20.34</td>\n",
       "      <td>20.34</td>\n",
       "    </tr>\n",
       "    <tr>\n",
       "      <th>...</th>\n",
       "      <td>...</td>\n",
       "      <td>...</td>\n",
       "      <td>...</td>\n",
       "      <td>...</td>\n",
       "      <td>...</td>\n",
       "      <td>...</td>\n",
       "      <td>...</td>\n",
       "      <td>...</td>\n",
       "      <td>...</td>\n",
       "      <td>...</td>\n",
       "      <td>...</td>\n",
       "    </tr>\n",
       "    <tr>\n",
       "      <th>1232</th>\n",
       "      <td>536532</td>\n",
       "      <td>Office Supplies</td>\n",
       "      <td>PLASTERS IN TIN SKULLS</td>\n",
       "      <td>24</td>\n",
       "      <td>2010-12-01 13:24:00</td>\n",
       "      <td>1.65</td>\n",
       "      <td>12433</td>\n",
       "      <td>NOK</td>\n",
       "      <td>Norway</td>\n",
       "      <td>39.60</td>\n",
       "      <td>39.60</td>\n",
       "    </tr>\n",
       "    <tr>\n",
       "      <th>1233</th>\n",
       "      <td>536532</td>\n",
       "      <td>Office Supplies</td>\n",
       "      <td>PLASTERS IN TIN SPACEBOY</td>\n",
       "      <td>24</td>\n",
       "      <td>2010-12-01 13:24:00</td>\n",
       "      <td>1.65</td>\n",
       "      <td>12433</td>\n",
       "      <td>NOK</td>\n",
       "      <td>Norway</td>\n",
       "      <td>39.60</td>\n",
       "      <td>39.60</td>\n",
       "    </tr>\n",
       "    <tr>\n",
       "      <th>1234</th>\n",
       "      <td>536532</td>\n",
       "      <td>Office Supplies</td>\n",
       "      <td>MINI JIGSAW DINOSAUR</td>\n",
       "      <td>24</td>\n",
       "      <td>2010-12-01 13:24:00</td>\n",
       "      <td>0.42</td>\n",
       "      <td>12433</td>\n",
       "      <td>NOK</td>\n",
       "      <td>Norway</td>\n",
       "      <td>10.08</td>\n",
       "      <td>10.08</td>\n",
       "    </tr>\n",
       "    <tr>\n",
       "      <th>1235</th>\n",
       "      <td>536532</td>\n",
       "      <td>Office Supplies</td>\n",
       "      <td>MINI JIGSAW SPACEBOY</td>\n",
       "      <td>24</td>\n",
       "      <td>2010-12-01 13:24:00</td>\n",
       "      <td>0.42</td>\n",
       "      <td>12433</td>\n",
       "      <td>NOK</td>\n",
       "      <td>Norway</td>\n",
       "      <td>10.08</td>\n",
       "      <td>10.08</td>\n",
       "    </tr>\n",
       "    <tr>\n",
       "      <th>1236</th>\n",
       "      <td>536532</td>\n",
       "      <td>Office Supplies</td>\n",
       "      <td>MINI JIGSAW BAKE A CAKE</td>\n",
       "      <td>24</td>\n",
       "      <td>2010-12-01 13:24:00</td>\n",
       "      <td>0.42</td>\n",
       "      <td>12433</td>\n",
       "      <td>NOK</td>\n",
       "      <td>Norway</td>\n",
       "      <td>10.08</td>\n",
       "      <td>10.08</td>\n",
       "    </tr>\n",
       "  </tbody>\n",
       "</table>\n",
       "<p>1237 rows × 11 columns</p>\n",
       "</div>"
      ]
     },
     "execution_count": 62,
     "metadata": {},
     "output_type": "execute_result"
    }
   ],
   "execution_count": 62
  },
  {
   "metadata": {
    "ExecuteTime": {
     "end_time": "2024-04-25T00:43:26.131868Z",
     "start_time": "2024-04-25T00:43:26.127205Z"
    }
   },
   "cell_type": "code",
   "source": [
    "#4.a\n",
    "df.shape[1]"
   ],
   "id": "ee26fd8848dbee37",
   "outputs": [
    {
     "data": {
      "text/plain": [
       "11"
      ]
     },
     "execution_count": 63,
     "metadata": {},
     "output_type": "execute_result"
    }
   ],
   "execution_count": 63
  },
  {
   "metadata": {
    "ExecuteTime": {
     "end_time": "2024-04-25T00:44:02.739563Z",
     "start_time": "2024-04-25T00:44:02.734133Z"
    }
   },
   "cell_type": "code",
   "source": "df.columns",
   "id": "9d103ed3723d3f26",
   "outputs": [
    {
     "data": {
      "text/plain": [
       "Index(['InvoiceNo', 'Supplier', 'Description', 'Quantity', 'InvoiceDate',\n",
       "       'UnitPrice', 'CustomerID', 'Currency', 'Country', 'Amount',\n",
       "       'AMT (WHOLE)'],\n",
       "      dtype='object')"
      ]
     },
     "execution_count": 75,
     "metadata": {},
     "output_type": "execute_result"
    }
   ],
   "execution_count": 75
  },
  {
   "metadata": {
    "ExecuteTime": {
     "end_time": "2024-04-25T00:44:03.123877Z",
     "start_time": "2024-04-25T00:44:03.118726Z"
    }
   },
   "cell_type": "code",
   "source": [
    "\n",
    "df.shape[0]"
   ],
   "id": "23602d0d657a303b",
   "outputs": [
    {
     "data": {
      "text/plain": [
       "1204"
      ]
     },
     "execution_count": 76,
     "metadata": {},
     "output_type": "execute_result"
    }
   ],
   "execution_count": 76
  },
  {
   "metadata": {
    "ExecuteTime": {
     "end_time": "2024-04-25T00:44:03.603727Z",
     "start_time": "2024-04-25T00:44:03.595987Z"
    }
   },
   "cell_type": "code",
   "source": "df.info()",
   "id": "7945e169f40992e5",
   "outputs": [
    {
     "name": "stdout",
     "output_type": "stream",
     "text": [
      "<class 'pandas.core.frame.DataFrame'>\n",
      "Index: 1204 entries, 0 to 1236\n",
      "Data columns (total 11 columns):\n",
      " #   Column       Non-Null Count  Dtype         \n",
      "---  ------       --------------  -----         \n",
      " 0   InvoiceNo    1204 non-null   int64         \n",
      " 1   Supplier     1204 non-null   object        \n",
      " 2   Description  1204 non-null   object        \n",
      " 3   Quantity     1204 non-null   int64         \n",
      " 4   InvoiceDate  1204 non-null   datetime64[ns]\n",
      " 5   UnitPrice    1204 non-null   float64       \n",
      " 6   CustomerID   1204 non-null   int64         \n",
      " 7   Currency     1204 non-null   object        \n",
      " 8   Country      1204 non-null   object        \n",
      " 9   Amount       1204 non-null   float64       \n",
      " 10  AMT (WHOLE)  1204 non-null   float64       \n",
      "dtypes: datetime64[ns](1), float64(3), int64(3), object(4)\n",
      "memory usage: 112.9+ KB\n"
     ]
    }
   ],
   "execution_count": 77
  },
  {
   "metadata": {},
   "cell_type": "markdown",
   "source": "PART ONE",
   "id": "c4926969ccbc4925"
  },
  {
   "metadata": {
    "ExecuteTime": {
     "end_time": "2024-04-25T00:44:05.228896Z",
     "start_time": "2024-04-25T00:44:05.222645Z"
    }
   },
   "cell_type": "code",
   "source": [
    "\n",
    "df.drop_duplicates(inplace=True)"
   ],
   "id": "bc3a1ab2597bb86c",
   "outputs": [],
   "execution_count": 78
  },
  {
   "metadata": {
    "ExecuteTime": {
     "end_time": "2024-04-25T00:44:05.635593Z",
     "start_time": "2024-04-25T00:44:05.630544Z"
    }
   },
   "cell_type": "code",
   "source": [
    "\n",
    "numeric_cols = df.select_dtypes(include='number')\n",
    "nonnumeric_cols = df.select_dtypes(include='object')"
   ],
   "id": "e24869c98917de28",
   "outputs": [],
   "execution_count": 79
  },
  {
   "metadata": {
    "ExecuteTime": {
     "end_time": "2024-04-25T00:44:05.928163Z",
     "start_time": "2024-04-25T00:44:05.921655Z"
    }
   },
   "cell_type": "code",
   "source": [
    "\n",
    "for cols in df.columns:\n",
    "    percentage_missing = np.mean(df[cols].isnull())\n",
    "    print('{} - {}%'.format (cols, round(percentage_missing*100)))"
   ],
   "id": "d9d4b765e711e946",
   "outputs": [
    {
     "name": "stdout",
     "output_type": "stream",
     "text": [
      "InvoiceNo - 0%\n",
      "Supplier - 0%\n",
      "Description - 0%\n",
      "Quantity - 0%\n",
      "InvoiceDate - 0%\n",
      "UnitPrice - 0%\n",
      "CustomerID - 0%\n",
      "Currency - 0%\n",
      "Country - 0%\n",
      "Amount - 0%\n",
      "AMT (WHOLE) - 0%\n"
     ]
    }
   ],
   "execution_count": 80
  },
  {
   "metadata": {
    "ExecuteTime": {
     "end_time": "2024-04-25T00:44:06.454915Z",
     "start_time": "2024-04-25T00:44:06.448367Z"
    }
   },
   "cell_type": "code",
   "source": [
    "\n",
    "def impute_with_median(df):\n",
    "    for column in df.select_dtypes(include=[np.number]).columns:\n",
    "        missing_percentage = df[column].isnull().mean() * 100\n",
    "\n",
    "        if missing_percentage < 2:\n",
    "            median_value = df[column].median()\n",
    "            df[column].fillna(median_value, inplace=True)\n",
    "    return df\n",
    "df = impute_with_median(df)"
   ],
   "id": "c7af0cec1dc9bcf2",
   "outputs": [],
   "execution_count": 81
  },
  {
   "metadata": {
    "ExecuteTime": {
     "end_time": "2024-04-25T00:44:10.356310Z",
     "start_time": "2024-04-25T00:44:10.332728Z"
    }
   },
   "cell_type": "code",
   "source": [
    "\n",
    "def impute_with_mode(df):\n",
    "    for column in df.select_dtypes(include=[np.number]).columns:\n",
    "        missing_percentage = df[column].isnull().mode()\n",
    "\n",
    "        if missing_percentage >= 5:\n",
    "            mode_value = df[column].mode().iloc[0]\n",
    "            df[column].fillna(mode_value, inplace=True)\n",
    "    return df\n",
    "df = impute_with_mode(df)"
   ],
   "id": "8aba2d2b864b1774",
   "outputs": [
    {
     "ename": "ValueError",
     "evalue": "The truth value of a Series is ambiguous. Use a.empty, a.bool(), a.item(), a.any() or a.all().",
     "output_type": "error",
     "traceback": [
      "\u001B[1;31m---------------------------------------------------------------------------\u001B[0m",
      "\u001B[1;31mValueError\u001B[0m                                Traceback (most recent call last)",
      "\u001B[1;32m~\\AppData\\Local\\Temp\\ipykernel_2976\\2692806972.py\u001B[0m in \u001B[0;36m?\u001B[1;34m()\u001B[0m\n\u001B[0;32m      6\u001B[0m         \u001B[1;32mif\u001B[0m \u001B[0mmissing_percentage\u001B[0m \u001B[1;33m>=\u001B[0m \u001B[1;36m5\u001B[0m\u001B[1;33m:\u001B[0m\u001B[1;33m\u001B[0m\u001B[1;33m\u001B[0m\u001B[0m\n\u001B[0;32m      7\u001B[0m             \u001B[0mmode_value\u001B[0m \u001B[1;33m=\u001B[0m \u001B[0mdf\u001B[0m\u001B[1;33m[\u001B[0m\u001B[0mcolumn\u001B[0m\u001B[1;33m]\u001B[0m\u001B[1;33m.\u001B[0m\u001B[0mmode\u001B[0m\u001B[1;33m(\u001B[0m\u001B[1;33m)\u001B[0m\u001B[1;33m.\u001B[0m\u001B[0miloc\u001B[0m\u001B[1;33m[\u001B[0m\u001B[1;36m0\u001B[0m\u001B[1;33m]\u001B[0m\u001B[1;33m\u001B[0m\u001B[1;33m\u001B[0m\u001B[0m\n\u001B[0;32m      8\u001B[0m             \u001B[0mdf\u001B[0m\u001B[1;33m[\u001B[0m\u001B[0mcolumn\u001B[0m\u001B[1;33m]\u001B[0m\u001B[1;33m.\u001B[0m\u001B[0mfillna\u001B[0m\u001B[1;33m(\u001B[0m\u001B[0mmode_value\u001B[0m\u001B[1;33m,\u001B[0m \u001B[0minplace\u001B[0m\u001B[1;33m=\u001B[0m\u001B[1;32mTrue\u001B[0m\u001B[1;33m)\u001B[0m\u001B[1;33m\u001B[0m\u001B[1;33m\u001B[0m\u001B[0m\n\u001B[0;32m      9\u001B[0m     \u001B[1;32mreturn\u001B[0m \u001B[0mdf\u001B[0m\u001B[1;33m\u001B[0m\u001B[1;33m\u001B[0m\u001B[0m\n\u001B[1;32m---> 10\u001B[1;33m \u001B[0mdf\u001B[0m \u001B[1;33m=\u001B[0m \u001B[0mimpute_with_mode\u001B[0m\u001B[1;33m(\u001B[0m\u001B[0mdf\u001B[0m\u001B[1;33m)\u001B[0m\u001B[1;33m\u001B[0m\u001B[1;33m\u001B[0m\u001B[0m\n\u001B[0m",
      "\u001B[1;32m~\\AppData\\Local\\Temp\\ipykernel_2976\\2692806972.py\u001B[0m in \u001B[0;36m?\u001B[1;34m(df)\u001B[0m\n\u001B[0;32m      2\u001B[0m \u001B[1;32mdef\u001B[0m \u001B[0mimpute_with_mode\u001B[0m\u001B[1;33m(\u001B[0m\u001B[0mdf\u001B[0m\u001B[1;33m)\u001B[0m\u001B[1;33m:\u001B[0m\u001B[1;33m\u001B[0m\u001B[1;33m\u001B[0m\u001B[0m\n\u001B[0;32m      3\u001B[0m     \u001B[1;32mfor\u001B[0m \u001B[0mcolumn\u001B[0m \u001B[1;32min\u001B[0m \u001B[0mdf\u001B[0m\u001B[1;33m.\u001B[0m\u001B[0mselect_dtypes\u001B[0m\u001B[1;33m(\u001B[0m\u001B[0minclude\u001B[0m\u001B[1;33m=\u001B[0m\u001B[1;33m[\u001B[0m\u001B[0mnp\u001B[0m\u001B[1;33m.\u001B[0m\u001B[0mnumber\u001B[0m\u001B[1;33m]\u001B[0m\u001B[1;33m)\u001B[0m\u001B[1;33m.\u001B[0m\u001B[0mcolumns\u001B[0m\u001B[1;33m:\u001B[0m\u001B[1;33m\u001B[0m\u001B[1;33m\u001B[0m\u001B[0m\n\u001B[0;32m      4\u001B[0m         \u001B[0mmissing_percentage\u001B[0m \u001B[1;33m=\u001B[0m \u001B[0mdf\u001B[0m\u001B[1;33m[\u001B[0m\u001B[0mcolumn\u001B[0m\u001B[1;33m]\u001B[0m\u001B[1;33m.\u001B[0m\u001B[0misnull\u001B[0m\u001B[1;33m(\u001B[0m\u001B[1;33m)\u001B[0m\u001B[1;33m.\u001B[0m\u001B[0mmode\u001B[0m\u001B[1;33m(\u001B[0m\u001B[1;33m)\u001B[0m\u001B[1;33m\u001B[0m\u001B[1;33m\u001B[0m\u001B[0m\n\u001B[0;32m      5\u001B[0m \u001B[1;33m\u001B[0m\u001B[0m\n\u001B[1;32m----> 6\u001B[1;33m         \u001B[1;32mif\u001B[0m \u001B[0mmissing_percentage\u001B[0m \u001B[1;33m>=\u001B[0m \u001B[1;36m5\u001B[0m\u001B[1;33m:\u001B[0m\u001B[1;33m\u001B[0m\u001B[1;33m\u001B[0m\u001B[0m\n\u001B[0m\u001B[0;32m      7\u001B[0m             \u001B[0mmode_value\u001B[0m \u001B[1;33m=\u001B[0m \u001B[0mdf\u001B[0m\u001B[1;33m[\u001B[0m\u001B[0mcolumn\u001B[0m\u001B[1;33m]\u001B[0m\u001B[1;33m.\u001B[0m\u001B[0mmode\u001B[0m\u001B[1;33m(\u001B[0m\u001B[1;33m)\u001B[0m\u001B[1;33m.\u001B[0m\u001B[0miloc\u001B[0m\u001B[1;33m[\u001B[0m\u001B[1;36m0\u001B[0m\u001B[1;33m]\u001B[0m\u001B[1;33m\u001B[0m\u001B[1;33m\u001B[0m\u001B[0m\n\u001B[0;32m      8\u001B[0m             \u001B[0mdf\u001B[0m\u001B[1;33m[\u001B[0m\u001B[0mcolumn\u001B[0m\u001B[1;33m]\u001B[0m\u001B[1;33m.\u001B[0m\u001B[0mfillna\u001B[0m\u001B[1;33m(\u001B[0m\u001B[0mmode_value\u001B[0m\u001B[1;33m,\u001B[0m \u001B[0minplace\u001B[0m\u001B[1;33m=\u001B[0m\u001B[1;32mTrue\u001B[0m\u001B[1;33m)\u001B[0m\u001B[1;33m\u001B[0m\u001B[1;33m\u001B[0m\u001B[0m\n\u001B[0;32m      9\u001B[0m     \u001B[1;32mreturn\u001B[0m \u001B[0mdf\u001B[0m\u001B[1;33m\u001B[0m\u001B[1;33m\u001B[0m\u001B[0m\n",
      "\u001B[1;32m~\\anaconda3\\Lib\\site-packages\\pandas\\core\\generic.py\u001B[0m in \u001B[0;36m?\u001B[1;34m(self)\u001B[0m\n\u001B[0;32m   1464\u001B[0m     \u001B[1;33m@\u001B[0m\u001B[0mfinal\u001B[0m\u001B[1;33m\u001B[0m\u001B[1;33m\u001B[0m\u001B[0m\n\u001B[0;32m   1465\u001B[0m     \u001B[1;32mdef\u001B[0m \u001B[0m__nonzero__\u001B[0m\u001B[1;33m(\u001B[0m\u001B[0mself\u001B[0m\u001B[1;33m)\u001B[0m \u001B[1;33m->\u001B[0m \u001B[0mNoReturn\u001B[0m\u001B[1;33m:\u001B[0m\u001B[1;33m\u001B[0m\u001B[1;33m\u001B[0m\u001B[0m\n\u001B[1;32m-> 1466\u001B[1;33m         raise ValueError(\n\u001B[0m\u001B[0;32m   1467\u001B[0m             \u001B[1;34mf\"The truth value of a {type(self).__name__} is ambiguous. \"\u001B[0m\u001B[1;33m\u001B[0m\u001B[1;33m\u001B[0m\u001B[0m\n\u001B[0;32m   1468\u001B[0m             \u001B[1;34m\"Use a.empty, a.bool(), a.item(), a.any() or a.all().\"\u001B[0m\u001B[1;33m\u001B[0m\u001B[1;33m\u001B[0m\u001B[0m\n\u001B[0;32m   1469\u001B[0m         )\n",
      "\u001B[1;31mValueError\u001B[0m: The truth value of a Series is ambiguous. Use a.empty, a.bool(), a.item(), a.any() or a.all()."
     ]
    }
   ],
   "execution_count": 82
  },
  {
   "metadata": {
    "ExecuteTime": {
     "end_time": "2024-04-25T00:44:11.117752Z",
     "start_time": "2024-04-25T00:44:11.111063Z"
    }
   },
   "cell_type": "code",
   "source": [
    "\n",
    "def impute_non_numeric_with_placeholder(df, placeholder='NA'):\n",
    "    for column in df.select_dtypes(exclude=[np.number]).columns:\n",
    "        missing_percentage = df[column].isnull().mean() * 100\n",
    "\n",
    "        if missing_percentage < 5:\n",
    "            df[column].fillna(placeholder, inplace=True)\n",
    "    return df\n",
    "\n",
    "df = impute_non_numeric_with_placeholder(df)"
   ],
   "id": "83b1c6b44c7c1ed5",
   "outputs": [],
   "execution_count": 83
  },
  {
   "metadata": {
    "ExecuteTime": {
     "end_time": "2024-04-25T00:44:17.812001Z",
     "start_time": "2024-04-25T00:44:17.794159Z"
    }
   },
   "cell_type": "code",
   "source": [
    "\n",
    "def fill_missing_categoricals(df):\n",
    "    for column in df.columns:\n",
    "        if df[column].dtype == 'object':\n",
    "            missing_count = df[column].isnull().sum()\n",
    "            total_count = df[column].shape[0]\n",
    "            missing_percent = (missing_count / total_count)*100\n",
    "\n",
    "            if missing_percent > 5:\n",
    "                mode = df[column].mode()[0]\n",
    "                df[column].fillna(mode, inplace=True)\n",
    "        return df\n",
    "\n",
    "df = fill_missing_categoricals(df)\n",
    "df"
   ],
   "id": "3fe058b42a4b45c",
   "outputs": [
    {
     "data": {
      "text/plain": [
       "      InvoiceNo  Supplier  Description  Quantity         InvoiceDate  \\\n",
       "0        536365  Supplier  Description         6 2010-12-01 08:26:00   \n",
       "1        536365  Supplier  Description         6 2010-12-01 08:26:00   \n",
       "2        536365  Supplier  Description         8 2010-12-01 08:26:00   \n",
       "5        536365  Supplier  Description         2 2010-12-01 08:26:00   \n",
       "6        536365  Supplier  Description         6 2010-12-01 08:26:00   \n",
       "...         ...       ...          ...       ...                 ...   \n",
       "1227     536532  Supplier  Description         8 2010-12-01 13:24:00   \n",
       "1228     536532  Supplier  Description         8 2010-12-01 13:24:00   \n",
       "1229     536532  Supplier  Description        24 2010-12-01 13:24:00   \n",
       "1230     536532  Supplier  Description        36 2010-12-01 13:24:00   \n",
       "1234     536532  Supplier  Description        24 2010-12-01 13:24:00   \n",
       "\n",
       "      UnitPrice  CustomerID  Currency  Country  Amount  AMT (WHOLE)  \n",
       "0          2.55       17850  Currency  Country   15.30        15.30  \n",
       "1          3.39       17850  Currency  Country   20.34        20.34  \n",
       "2          2.75       17850  Currency  Country   22.00        22.00  \n",
       "5          7.65       17850  Currency  Country   15.30        15.30  \n",
       "6          4.25       17850  Currency  Country   25.50        25.50  \n",
       "...         ...         ...       ...      ...     ...          ...  \n",
       "1227       2.10       12433  Currency  Country   16.80        16.80  \n",
       "1228       1.95       12433  Currency  Country   15.60        15.60  \n",
       "1229       1.65       12433  Currency  Country   39.60        39.60  \n",
       "1230       1.65       12433  Currency  Country   59.40        59.40  \n",
       "1234       0.42       12433  Currency  Country   10.08        10.08  \n",
       "\n",
       "[766 rows x 11 columns]"
      ],
      "text/html": [
       "<div>\n",
       "<style scoped>\n",
       "    .dataframe tbody tr th:only-of-type {\n",
       "        vertical-align: middle;\n",
       "    }\n",
       "\n",
       "    .dataframe tbody tr th {\n",
       "        vertical-align: top;\n",
       "    }\n",
       "\n",
       "    .dataframe thead th {\n",
       "        text-align: right;\n",
       "    }\n",
       "</style>\n",
       "<table border=\"1\" class=\"dataframe\">\n",
       "  <thead>\n",
       "    <tr style=\"text-align: right;\">\n",
       "      <th></th>\n",
       "      <th>InvoiceNo</th>\n",
       "      <th>Supplier</th>\n",
       "      <th>Description</th>\n",
       "      <th>Quantity</th>\n",
       "      <th>InvoiceDate</th>\n",
       "      <th>UnitPrice</th>\n",
       "      <th>CustomerID</th>\n",
       "      <th>Currency</th>\n",
       "      <th>Country</th>\n",
       "      <th>Amount</th>\n",
       "      <th>AMT (WHOLE)</th>\n",
       "    </tr>\n",
       "  </thead>\n",
       "  <tbody>\n",
       "    <tr>\n",
       "      <th>0</th>\n",
       "      <td>536365</td>\n",
       "      <td>Supplier</td>\n",
       "      <td>Description</td>\n",
       "      <td>6</td>\n",
       "      <td>2010-12-01 08:26:00</td>\n",
       "      <td>2.55</td>\n",
       "      <td>17850</td>\n",
       "      <td>Currency</td>\n",
       "      <td>Country</td>\n",
       "      <td>15.30</td>\n",
       "      <td>15.30</td>\n",
       "    </tr>\n",
       "    <tr>\n",
       "      <th>1</th>\n",
       "      <td>536365</td>\n",
       "      <td>Supplier</td>\n",
       "      <td>Description</td>\n",
       "      <td>6</td>\n",
       "      <td>2010-12-01 08:26:00</td>\n",
       "      <td>3.39</td>\n",
       "      <td>17850</td>\n",
       "      <td>Currency</td>\n",
       "      <td>Country</td>\n",
       "      <td>20.34</td>\n",
       "      <td>20.34</td>\n",
       "    </tr>\n",
       "    <tr>\n",
       "      <th>2</th>\n",
       "      <td>536365</td>\n",
       "      <td>Supplier</td>\n",
       "      <td>Description</td>\n",
       "      <td>8</td>\n",
       "      <td>2010-12-01 08:26:00</td>\n",
       "      <td>2.75</td>\n",
       "      <td>17850</td>\n",
       "      <td>Currency</td>\n",
       "      <td>Country</td>\n",
       "      <td>22.00</td>\n",
       "      <td>22.00</td>\n",
       "    </tr>\n",
       "    <tr>\n",
       "      <th>5</th>\n",
       "      <td>536365</td>\n",
       "      <td>Supplier</td>\n",
       "      <td>Description</td>\n",
       "      <td>2</td>\n",
       "      <td>2010-12-01 08:26:00</td>\n",
       "      <td>7.65</td>\n",
       "      <td>17850</td>\n",
       "      <td>Currency</td>\n",
       "      <td>Country</td>\n",
       "      <td>15.30</td>\n",
       "      <td>15.30</td>\n",
       "    </tr>\n",
       "    <tr>\n",
       "      <th>6</th>\n",
       "      <td>536365</td>\n",
       "      <td>Supplier</td>\n",
       "      <td>Description</td>\n",
       "      <td>6</td>\n",
       "      <td>2010-12-01 08:26:00</td>\n",
       "      <td>4.25</td>\n",
       "      <td>17850</td>\n",
       "      <td>Currency</td>\n",
       "      <td>Country</td>\n",
       "      <td>25.50</td>\n",
       "      <td>25.50</td>\n",
       "    </tr>\n",
       "    <tr>\n",
       "      <th>...</th>\n",
       "      <td>...</td>\n",
       "      <td>...</td>\n",
       "      <td>...</td>\n",
       "      <td>...</td>\n",
       "      <td>...</td>\n",
       "      <td>...</td>\n",
       "      <td>...</td>\n",
       "      <td>...</td>\n",
       "      <td>...</td>\n",
       "      <td>...</td>\n",
       "      <td>...</td>\n",
       "    </tr>\n",
       "    <tr>\n",
       "      <th>1227</th>\n",
       "      <td>536532</td>\n",
       "      <td>Supplier</td>\n",
       "      <td>Description</td>\n",
       "      <td>8</td>\n",
       "      <td>2010-12-01 13:24:00</td>\n",
       "      <td>2.10</td>\n",
       "      <td>12433</td>\n",
       "      <td>Currency</td>\n",
       "      <td>Country</td>\n",
       "      <td>16.80</td>\n",
       "      <td>16.80</td>\n",
       "    </tr>\n",
       "    <tr>\n",
       "      <th>1228</th>\n",
       "      <td>536532</td>\n",
       "      <td>Supplier</td>\n",
       "      <td>Description</td>\n",
       "      <td>8</td>\n",
       "      <td>2010-12-01 13:24:00</td>\n",
       "      <td>1.95</td>\n",
       "      <td>12433</td>\n",
       "      <td>Currency</td>\n",
       "      <td>Country</td>\n",
       "      <td>15.60</td>\n",
       "      <td>15.60</td>\n",
       "    </tr>\n",
       "    <tr>\n",
       "      <th>1229</th>\n",
       "      <td>536532</td>\n",
       "      <td>Supplier</td>\n",
       "      <td>Description</td>\n",
       "      <td>24</td>\n",
       "      <td>2010-12-01 13:24:00</td>\n",
       "      <td>1.65</td>\n",
       "      <td>12433</td>\n",
       "      <td>Currency</td>\n",
       "      <td>Country</td>\n",
       "      <td>39.60</td>\n",
       "      <td>39.60</td>\n",
       "    </tr>\n",
       "    <tr>\n",
       "      <th>1230</th>\n",
       "      <td>536532</td>\n",
       "      <td>Supplier</td>\n",
       "      <td>Description</td>\n",
       "      <td>36</td>\n",
       "      <td>2010-12-01 13:24:00</td>\n",
       "      <td>1.65</td>\n",
       "      <td>12433</td>\n",
       "      <td>Currency</td>\n",
       "      <td>Country</td>\n",
       "      <td>59.40</td>\n",
       "      <td>59.40</td>\n",
       "    </tr>\n",
       "    <tr>\n",
       "      <th>1234</th>\n",
       "      <td>536532</td>\n",
       "      <td>Supplier</td>\n",
       "      <td>Description</td>\n",
       "      <td>24</td>\n",
       "      <td>2010-12-01 13:24:00</td>\n",
       "      <td>0.42</td>\n",
       "      <td>12433</td>\n",
       "      <td>Currency</td>\n",
       "      <td>Country</td>\n",
       "      <td>10.08</td>\n",
       "      <td>10.08</td>\n",
       "    </tr>\n",
       "  </tbody>\n",
       "</table>\n",
       "<p>766 rows × 11 columns</p>\n",
       "</div>"
      ]
     },
     "execution_count": 84,
     "metadata": {},
     "output_type": "execute_result"
    }
   ],
   "execution_count": 84
  },
  {
   "metadata": {
    "ExecuteTime": {
     "end_time": "2024-04-25T00:44:25.710917Z",
     "start_time": "2024-04-25T00:44:25.694214Z"
    }
   },
   "cell_type": "code",
   "source": [
    "\n",
    "object_col = df.columns[df.dtypes == 'object']\n",
    "df[object_col] = object_col.fillna('MISSING')\n",
    "\n",
    "num_cols = df.select_dtypes(include=['int','float'])\n",
    "df[num_cols.columns] = num_cols.fillna(0)\n",
    "df"
   ],
   "id": "4c14693055d85c7c",
   "outputs": [
    {
     "data": {
      "text/plain": [
       "      InvoiceNo  Supplier  Description  Quantity         InvoiceDate  \\\n",
       "0        536365  Supplier  Description         6 2010-12-01 08:26:00   \n",
       "1        536365  Supplier  Description         6 2010-12-01 08:26:00   \n",
       "2        536365  Supplier  Description         8 2010-12-01 08:26:00   \n",
       "5        536365  Supplier  Description         2 2010-12-01 08:26:00   \n",
       "6        536365  Supplier  Description         6 2010-12-01 08:26:00   \n",
       "...         ...       ...          ...       ...                 ...   \n",
       "1227     536532  Supplier  Description         8 2010-12-01 13:24:00   \n",
       "1228     536532  Supplier  Description         8 2010-12-01 13:24:00   \n",
       "1229     536532  Supplier  Description        24 2010-12-01 13:24:00   \n",
       "1230     536532  Supplier  Description        36 2010-12-01 13:24:00   \n",
       "1234     536532  Supplier  Description        24 2010-12-01 13:24:00   \n",
       "\n",
       "      UnitPrice  CustomerID  Currency  Country  Amount  AMT (WHOLE)  \n",
       "0          2.55       17850  Currency  Country   15.30        15.30  \n",
       "1          3.39       17850  Currency  Country   20.34        20.34  \n",
       "2          2.75       17850  Currency  Country   22.00        22.00  \n",
       "5          7.65       17850  Currency  Country   15.30        15.30  \n",
       "6          4.25       17850  Currency  Country   25.50        25.50  \n",
       "...         ...         ...       ...      ...     ...          ...  \n",
       "1227       2.10       12433  Currency  Country   16.80        16.80  \n",
       "1228       1.95       12433  Currency  Country   15.60        15.60  \n",
       "1229       1.65       12433  Currency  Country   39.60        39.60  \n",
       "1230       1.65       12433  Currency  Country   59.40        59.40  \n",
       "1234       0.42       12433  Currency  Country   10.08        10.08  \n",
       "\n",
       "[766 rows x 11 columns]"
      ],
      "text/html": [
       "<div>\n",
       "<style scoped>\n",
       "    .dataframe tbody tr th:only-of-type {\n",
       "        vertical-align: middle;\n",
       "    }\n",
       "\n",
       "    .dataframe tbody tr th {\n",
       "        vertical-align: top;\n",
       "    }\n",
       "\n",
       "    .dataframe thead th {\n",
       "        text-align: right;\n",
       "    }\n",
       "</style>\n",
       "<table border=\"1\" class=\"dataframe\">\n",
       "  <thead>\n",
       "    <tr style=\"text-align: right;\">\n",
       "      <th></th>\n",
       "      <th>InvoiceNo</th>\n",
       "      <th>Supplier</th>\n",
       "      <th>Description</th>\n",
       "      <th>Quantity</th>\n",
       "      <th>InvoiceDate</th>\n",
       "      <th>UnitPrice</th>\n",
       "      <th>CustomerID</th>\n",
       "      <th>Currency</th>\n",
       "      <th>Country</th>\n",
       "      <th>Amount</th>\n",
       "      <th>AMT (WHOLE)</th>\n",
       "    </tr>\n",
       "  </thead>\n",
       "  <tbody>\n",
       "    <tr>\n",
       "      <th>0</th>\n",
       "      <td>536365</td>\n",
       "      <td>Supplier</td>\n",
       "      <td>Description</td>\n",
       "      <td>6</td>\n",
       "      <td>2010-12-01 08:26:00</td>\n",
       "      <td>2.55</td>\n",
       "      <td>17850</td>\n",
       "      <td>Currency</td>\n",
       "      <td>Country</td>\n",
       "      <td>15.30</td>\n",
       "      <td>15.30</td>\n",
       "    </tr>\n",
       "    <tr>\n",
       "      <th>1</th>\n",
       "      <td>536365</td>\n",
       "      <td>Supplier</td>\n",
       "      <td>Description</td>\n",
       "      <td>6</td>\n",
       "      <td>2010-12-01 08:26:00</td>\n",
       "      <td>3.39</td>\n",
       "      <td>17850</td>\n",
       "      <td>Currency</td>\n",
       "      <td>Country</td>\n",
       "      <td>20.34</td>\n",
       "      <td>20.34</td>\n",
       "    </tr>\n",
       "    <tr>\n",
       "      <th>2</th>\n",
       "      <td>536365</td>\n",
       "      <td>Supplier</td>\n",
       "      <td>Description</td>\n",
       "      <td>8</td>\n",
       "      <td>2010-12-01 08:26:00</td>\n",
       "      <td>2.75</td>\n",
       "      <td>17850</td>\n",
       "      <td>Currency</td>\n",
       "      <td>Country</td>\n",
       "      <td>22.00</td>\n",
       "      <td>22.00</td>\n",
       "    </tr>\n",
       "    <tr>\n",
       "      <th>5</th>\n",
       "      <td>536365</td>\n",
       "      <td>Supplier</td>\n",
       "      <td>Description</td>\n",
       "      <td>2</td>\n",
       "      <td>2010-12-01 08:26:00</td>\n",
       "      <td>7.65</td>\n",
       "      <td>17850</td>\n",
       "      <td>Currency</td>\n",
       "      <td>Country</td>\n",
       "      <td>15.30</td>\n",
       "      <td>15.30</td>\n",
       "    </tr>\n",
       "    <tr>\n",
       "      <th>6</th>\n",
       "      <td>536365</td>\n",
       "      <td>Supplier</td>\n",
       "      <td>Description</td>\n",
       "      <td>6</td>\n",
       "      <td>2010-12-01 08:26:00</td>\n",
       "      <td>4.25</td>\n",
       "      <td>17850</td>\n",
       "      <td>Currency</td>\n",
       "      <td>Country</td>\n",
       "      <td>25.50</td>\n",
       "      <td>25.50</td>\n",
       "    </tr>\n",
       "    <tr>\n",
       "      <th>...</th>\n",
       "      <td>...</td>\n",
       "      <td>...</td>\n",
       "      <td>...</td>\n",
       "      <td>...</td>\n",
       "      <td>...</td>\n",
       "      <td>...</td>\n",
       "      <td>...</td>\n",
       "      <td>...</td>\n",
       "      <td>...</td>\n",
       "      <td>...</td>\n",
       "      <td>...</td>\n",
       "    </tr>\n",
       "    <tr>\n",
       "      <th>1227</th>\n",
       "      <td>536532</td>\n",
       "      <td>Supplier</td>\n",
       "      <td>Description</td>\n",
       "      <td>8</td>\n",
       "      <td>2010-12-01 13:24:00</td>\n",
       "      <td>2.10</td>\n",
       "      <td>12433</td>\n",
       "      <td>Currency</td>\n",
       "      <td>Country</td>\n",
       "      <td>16.80</td>\n",
       "      <td>16.80</td>\n",
       "    </tr>\n",
       "    <tr>\n",
       "      <th>1228</th>\n",
       "      <td>536532</td>\n",
       "      <td>Supplier</td>\n",
       "      <td>Description</td>\n",
       "      <td>8</td>\n",
       "      <td>2010-12-01 13:24:00</td>\n",
       "      <td>1.95</td>\n",
       "      <td>12433</td>\n",
       "      <td>Currency</td>\n",
       "      <td>Country</td>\n",
       "      <td>15.60</td>\n",
       "      <td>15.60</td>\n",
       "    </tr>\n",
       "    <tr>\n",
       "      <th>1229</th>\n",
       "      <td>536532</td>\n",
       "      <td>Supplier</td>\n",
       "      <td>Description</td>\n",
       "      <td>24</td>\n",
       "      <td>2010-12-01 13:24:00</td>\n",
       "      <td>1.65</td>\n",
       "      <td>12433</td>\n",
       "      <td>Currency</td>\n",
       "      <td>Country</td>\n",
       "      <td>39.60</td>\n",
       "      <td>39.60</td>\n",
       "    </tr>\n",
       "    <tr>\n",
       "      <th>1230</th>\n",
       "      <td>536532</td>\n",
       "      <td>Supplier</td>\n",
       "      <td>Description</td>\n",
       "      <td>36</td>\n",
       "      <td>2010-12-01 13:24:00</td>\n",
       "      <td>1.65</td>\n",
       "      <td>12433</td>\n",
       "      <td>Currency</td>\n",
       "      <td>Country</td>\n",
       "      <td>59.40</td>\n",
       "      <td>59.40</td>\n",
       "    </tr>\n",
       "    <tr>\n",
       "      <th>1234</th>\n",
       "      <td>536532</td>\n",
       "      <td>Supplier</td>\n",
       "      <td>Description</td>\n",
       "      <td>24</td>\n",
       "      <td>2010-12-01 13:24:00</td>\n",
       "      <td>0.42</td>\n",
       "      <td>12433</td>\n",
       "      <td>Currency</td>\n",
       "      <td>Country</td>\n",
       "      <td>10.08</td>\n",
       "      <td>10.08</td>\n",
       "    </tr>\n",
       "  </tbody>\n",
       "</table>\n",
       "<p>766 rows × 11 columns</p>\n",
       "</div>"
      ]
     },
     "execution_count": 85,
     "metadata": {},
     "output_type": "execute_result"
    }
   ],
   "execution_count": 85
  },
  {
   "metadata": {
    "ExecuteTime": {
     "end_time": "2024-04-24T23:43:00.204449Z",
     "start_time": "2024-04-24T23:43:00.194416Z"
    }
   },
   "cell_type": "code",
   "source": [
    "\n",
    "def remove_outliers(df):\n",
    "    for column in df.select_dtypes(include=[np.number]).columns:\n",
    "        mean = df[column].mean()\n",
    "        std = df[column].std()\n",
    "        lower_bound = mean - 3 * std\n",
    "        upper_bound = mean + 3 * std\n",
    "        df = df[(df[column] >= lower_bound) & (df[column] <= upper_bound) | df[column].isnull()]\n",
    "        \n",
    "    return df\n",
    "\n",
    "df = remove_outliers(df)\n"
   ],
   "id": "bac142c7f36e79e3",
   "outputs": [],
   "execution_count": 33
  },
  {
   "metadata": {},
   "cell_type": "markdown",
   "source": "PART 2",
   "id": "357c4d255ae6ff30"
  },
  {
   "metadata": {
    "ExecuteTime": {
     "end_time": "2024-04-24T23:43:37.909930Z",
     "start_time": "2024-04-24T23:43:37.886951Z"
    }
   },
   "cell_type": "code",
   "source": "df.describe()",
   "id": "a23565afa42ce9e1",
   "outputs": [
    {
     "data": {
      "text/plain": [
       "           InvoiceNo     Quantity                    InvoiceDate    UnitPrice  \\\n",
       "count    1123.000000  1123.000000                           1123  1123.000000   \n",
       "mean   536442.733749     6.605521  2010-12-01 11:43:02.724844288     2.875548   \n",
       "min    536365.000000     1.000000            2010-12-01 08:26:00     0.120000   \n",
       "25%    536401.000000     1.000000            2010-12-01 11:21:00     1.250000   \n",
       "50%    536415.000000     3.000000            2010-12-01 11:57:00     1.950000   \n",
       "75%    536520.000000     8.000000            2010-12-01 12:43:00     3.750000   \n",
       "max    536532.000000    96.000000            2010-12-01 13:24:00    18.000000   \n",
       "std        55.823900     9.060317                            NaN     2.556528   \n",
       "\n",
       "         CustomerID       Amount  AMT (WHOLE)  \n",
       "count   1123.000000  1123.000000  1123.000000  \n",
       "mean   15775.538736    12.613304    12.613304  \n",
       "min    12431.000000     0.290000     0.290000  \n",
       "25%    14307.000000     3.115000     3.115000  \n",
       "50%    15862.000000     8.850000     8.850000  \n",
       "75%    17897.000000    17.700000    17.700000  \n",
       "max    18085.000000    68.000000    68.000000  \n",
       "std     1844.760855    12.187176    12.187176  "
      ],
      "text/html": [
       "<div>\n",
       "<style scoped>\n",
       "    .dataframe tbody tr th:only-of-type {\n",
       "        vertical-align: middle;\n",
       "    }\n",
       "\n",
       "    .dataframe tbody tr th {\n",
       "        vertical-align: top;\n",
       "    }\n",
       "\n",
       "    .dataframe thead th {\n",
       "        text-align: right;\n",
       "    }\n",
       "</style>\n",
       "<table border=\"1\" class=\"dataframe\">\n",
       "  <thead>\n",
       "    <tr style=\"text-align: right;\">\n",
       "      <th></th>\n",
       "      <th>InvoiceNo</th>\n",
       "      <th>Quantity</th>\n",
       "      <th>InvoiceDate</th>\n",
       "      <th>UnitPrice</th>\n",
       "      <th>CustomerID</th>\n",
       "      <th>Amount</th>\n",
       "      <th>AMT (WHOLE)</th>\n",
       "    </tr>\n",
       "  </thead>\n",
       "  <tbody>\n",
       "    <tr>\n",
       "      <th>count</th>\n",
       "      <td>1123.000000</td>\n",
       "      <td>1123.000000</td>\n",
       "      <td>1123</td>\n",
       "      <td>1123.000000</td>\n",
       "      <td>1123.000000</td>\n",
       "      <td>1123.000000</td>\n",
       "      <td>1123.000000</td>\n",
       "    </tr>\n",
       "    <tr>\n",
       "      <th>mean</th>\n",
       "      <td>536442.733749</td>\n",
       "      <td>6.605521</td>\n",
       "      <td>2010-12-01 11:43:02.724844288</td>\n",
       "      <td>2.875548</td>\n",
       "      <td>15775.538736</td>\n",
       "      <td>12.613304</td>\n",
       "      <td>12.613304</td>\n",
       "    </tr>\n",
       "    <tr>\n",
       "      <th>min</th>\n",
       "      <td>536365.000000</td>\n",
       "      <td>1.000000</td>\n",
       "      <td>2010-12-01 08:26:00</td>\n",
       "      <td>0.120000</td>\n",
       "      <td>12431.000000</td>\n",
       "      <td>0.290000</td>\n",
       "      <td>0.290000</td>\n",
       "    </tr>\n",
       "    <tr>\n",
       "      <th>25%</th>\n",
       "      <td>536401.000000</td>\n",
       "      <td>1.000000</td>\n",
       "      <td>2010-12-01 11:21:00</td>\n",
       "      <td>1.250000</td>\n",
       "      <td>14307.000000</td>\n",
       "      <td>3.115000</td>\n",
       "      <td>3.115000</td>\n",
       "    </tr>\n",
       "    <tr>\n",
       "      <th>50%</th>\n",
       "      <td>536415.000000</td>\n",
       "      <td>3.000000</td>\n",
       "      <td>2010-12-01 11:57:00</td>\n",
       "      <td>1.950000</td>\n",
       "      <td>15862.000000</td>\n",
       "      <td>8.850000</td>\n",
       "      <td>8.850000</td>\n",
       "    </tr>\n",
       "    <tr>\n",
       "      <th>75%</th>\n",
       "      <td>536520.000000</td>\n",
       "      <td>8.000000</td>\n",
       "      <td>2010-12-01 12:43:00</td>\n",
       "      <td>3.750000</td>\n",
       "      <td>17897.000000</td>\n",
       "      <td>17.700000</td>\n",
       "      <td>17.700000</td>\n",
       "    </tr>\n",
       "    <tr>\n",
       "      <th>max</th>\n",
       "      <td>536532.000000</td>\n",
       "      <td>96.000000</td>\n",
       "      <td>2010-12-01 13:24:00</td>\n",
       "      <td>18.000000</td>\n",
       "      <td>18085.000000</td>\n",
       "      <td>68.000000</td>\n",
       "      <td>68.000000</td>\n",
       "    </tr>\n",
       "    <tr>\n",
       "      <th>std</th>\n",
       "      <td>55.823900</td>\n",
       "      <td>9.060317</td>\n",
       "      <td>NaN</td>\n",
       "      <td>2.556528</td>\n",
       "      <td>1844.760855</td>\n",
       "      <td>12.187176</td>\n",
       "      <td>12.187176</td>\n",
       "    </tr>\n",
       "  </tbody>\n",
       "</table>\n",
       "</div>"
      ]
     },
     "execution_count": 34,
     "metadata": {},
     "output_type": "execute_result"
    }
   ],
   "execution_count": 34
  },
  {
   "metadata": {
    "ExecuteTime": {
     "end_time": "2024-04-24T23:45:34.541723Z",
     "start_time": "2024-04-24T23:45:34.534479Z"
    }
   },
   "cell_type": "code",
   "source": [
    "\n",
    "numeric_cols.mean()"
   ],
   "id": "94fbbbfe87f24e",
   "outputs": [
    {
     "data": {
      "text/plain": [
       "InvoiceNo      536441.326412\n",
       "Quantity           11.918605\n",
       "UnitPrice           3.102625\n",
       "CustomerID      15772.191030\n",
       "Amount             23.096088\n",
       "AMT (WHOLE)        23.096088\n",
       "dtype: float64"
      ]
     },
     "execution_count": 37,
     "metadata": {},
     "output_type": "execute_result"
    }
   ],
   "execution_count": 37
  },
  {
   "metadata": {
    "ExecuteTime": {
     "end_time": "2024-04-24T23:46:35.800926Z",
     "start_time": "2024-04-24T23:46:35.794559Z"
    }
   },
   "cell_type": "code",
   "source": [
    "\n",
    "numeric_cols.median()"
   ],
   "id": "56de8b9c2ba9ca81",
   "outputs": [
    {
     "data": {
      "text/plain": [
       "InvoiceNo      536415.0\n",
       "Quantity            4.0\n",
       "UnitPrice           2.1\n",
       "CustomerID      15862.0\n",
       "Amount             10.2\n",
       "AMT (WHOLE)        10.2\n",
       "dtype: float64"
      ]
     },
     "execution_count": 38,
     "metadata": {},
     "output_type": "execute_result"
    }
   ],
   "execution_count": 38
  },
  {
   "metadata": {
    "ExecuteTime": {
     "end_time": "2024-04-24T23:46:52.940850Z",
     "start_time": "2024-04-24T23:46:52.931726Z"
    }
   },
   "cell_type": "code",
   "source": [
    "\n",
    "numeric_cols.mode()"
   ],
   "id": "85e90a03fd034490",
   "outputs": [
    {
     "data": {
      "text/plain": [
       "   InvoiceNo  Quantity  UnitPrice  CustomerID  Amount  AMT (WHOLE)\n",
       "0     536464         1       1.25       17850    15.0         15.0"
      ],
      "text/html": [
       "<div>\n",
       "<style scoped>\n",
       "    .dataframe tbody tr th:only-of-type {\n",
       "        vertical-align: middle;\n",
       "    }\n",
       "\n",
       "    .dataframe tbody tr th {\n",
       "        vertical-align: top;\n",
       "    }\n",
       "\n",
       "    .dataframe thead th {\n",
       "        text-align: right;\n",
       "    }\n",
       "</style>\n",
       "<table border=\"1\" class=\"dataframe\">\n",
       "  <thead>\n",
       "    <tr style=\"text-align: right;\">\n",
       "      <th></th>\n",
       "      <th>InvoiceNo</th>\n",
       "      <th>Quantity</th>\n",
       "      <th>UnitPrice</th>\n",
       "      <th>CustomerID</th>\n",
       "      <th>Amount</th>\n",
       "      <th>AMT (WHOLE)</th>\n",
       "    </tr>\n",
       "  </thead>\n",
       "  <tbody>\n",
       "    <tr>\n",
       "      <th>0</th>\n",
       "      <td>536464</td>\n",
       "      <td>1</td>\n",
       "      <td>1.25</td>\n",
       "      <td>17850</td>\n",
       "      <td>15.0</td>\n",
       "      <td>15.0</td>\n",
       "    </tr>\n",
       "  </tbody>\n",
       "</table>\n",
       "</div>"
      ]
     },
     "execution_count": 39,
     "metadata": {},
     "output_type": "execute_result"
    }
   ],
   "execution_count": 39
  },
  {
   "metadata": {
    "ExecuteTime": {
     "end_time": "2024-04-24T23:47:07.122193Z",
     "start_time": "2024-04-24T23:47:07.116766Z"
    }
   },
   "cell_type": "code",
   "source": [
    "\n",
    "numeric_cols.std()"
   ],
   "id": "e3532d22ab8a3b25",
   "outputs": [
    {
     "data": {
      "text/plain": [
       "InvoiceNo        55.865864\n",
       "Quantity         35.299550\n",
       "UnitPrice         5.525798\n",
       "CustomerID     1836.905873\n",
       "Amount           69.038912\n",
       "AMT (WHOLE)      69.038912\n",
       "dtype: float64"
      ]
     },
     "execution_count": 40,
     "metadata": {},
     "output_type": "execute_result"
    }
   ],
   "execution_count": 40
  },
  {
   "metadata": {
    "ExecuteTime": {
     "end_time": "2024-04-24T23:56:26.339454Z",
     "start_time": "2024-04-24T23:56:26.332526Z"
    }
   },
   "cell_type": "code",
   "source": [
    "\n",
    "def calculate_ranges(df):\n",
    "    ranges = {}\n",
    "    for column in df.select_dtypes(include=[np.number]).columns:\n",
    "        min_value = df[column].min()\n",
    "        max_value = df[column].max()\n",
    "        column_range = max_value - min_value\n",
    "        ranges[column] = column_range\n",
    "\n",
    "    return ranges\n",
    "\n",
    "\n",
    "numeric_ranges = calculate_ranges(df)\n",
    "numeric_ranges"
   ],
   "id": "ce8acaaf9144a8b7",
   "outputs": [
    {
     "data": {
      "text/plain": [
       "{'InvoiceNo': 167,\n",
       " 'Quantity': 95,\n",
       " 'UnitPrice': 17.88,\n",
       " 'CustomerID': 5654,\n",
       " 'Amount': 67.71,\n",
       " 'AMT (WHOLE)': 67.71}"
      ]
     },
     "execution_count": 42,
     "metadata": {},
     "output_type": "execute_result"
    }
   ],
   "execution_count": 42
  },
  {
   "metadata": {
    "ExecuteTime": {
     "end_time": "2024-04-25T00:03:43.752680Z",
     "start_time": "2024-04-25T00:03:43.746115Z"
    }
   },
   "cell_type": "code",
   "source": [
    "\n",
    "def calculate_iqr(df):\n",
    "    iqrs = {}\n",
    "    for column in df.select_dtypes(include=[np.number]).columns:\n",
    "        q3,q1 = np.percentile(df[column],[75,25])\n",
    "        iqr= q3-q1\n",
    "        iqrs[column] = iqr\n",
    "\n",
    "    return iqrs\n",
    "calculate_iqr(df)"
   ],
   "id": "eba1a991af4bef46",
   "outputs": [
    {
     "data": {
      "text/plain": [
       "{'InvoiceNo': 119.0,\n",
       " 'Quantity': 7.0,\n",
       " 'UnitPrice': 2.5,\n",
       " 'CustomerID': 3590.0,\n",
       " 'Amount': 14.584999999999999,\n",
       " 'AMT (WHOLE)': 14.585000000000003}"
      ]
     },
     "execution_count": 52,
     "metadata": {},
     "output_type": "execute_result"
    }
   ],
   "execution_count": 52
  },
  {
   "metadata": {
    "ExecuteTime": {
     "end_time": "2024-04-25T00:24:07.817047Z",
     "start_time": "2024-04-25T00:24:07.809564Z"
    }
   },
   "cell_type": "code",
   "source": [
    "\n",
    "def find_modes_for_non_numeric_columns(df):\n",
    "    modes = {}\n",
    "    for column in df.select_dtypes(exclude=[np.number]).columns:\n",
    "        mode_value = df[column].mode().iloc[0]\n",
    "        modes[column] = mode_value\n",
    "\n",
    "    return modes\n",
    "\n",
    "modes_non_numeric = find_modes_for_non_numeric_columns(df)\n",
    "modes_non_numeric"
   ],
   "id": "b8ed87a640c74328",
   "outputs": [
    {
     "data": {
      "text/plain": [
       "{'Supplier': 'Supplier',\n",
       " 'Description': 'Description',\n",
       " 'InvoiceDate': Timestamp('2010-12-01 12:23:00'),\n",
       " 'Currency': 'Currency',\n",
       " 'Country': 'Country'}"
      ]
     },
     "execution_count": 53,
     "metadata": {},
     "output_type": "execute_result"
    }
   ],
   "execution_count": 53
  },
  {
   "metadata": {
    "ExecuteTime": {
     "end_time": "2024-04-25T00:32:58.770605Z",
     "start_time": "2024-04-25T00:32:58.762487Z"
    }
   },
   "cell_type": "code",
   "source": [
    "\n",
    "def find_unique_values_for_non_numeric_columns(df):\n",
    "    unique_values = {}\n",
    "    for column in df.select_dtypes(exclude=[np.number]).columns:\n",
    "        unique_vals = df[column].unique()\n",
    "        unique_values[column] = list(unique_vals)\n",
    "    return unique_values\n",
    "\n",
    "\n",
    "unique_values_non_numeric = find_unique_values_for_non_numeric_columns(df)\n",
    "unique_values_non_numeric"
   ],
   "id": "128d0a4909ef784a",
   "outputs": [
    {
     "data": {
      "text/plain": [
       "{'Supplier': ['Supplier'],\n",
       " 'Description': ['Description'],\n",
       " 'InvoiceDate': [Timestamp('2010-12-01 08:26:00'),\n",
       "  Timestamp('2010-12-01 08:28:00'),\n",
       "  Timestamp('2010-12-01 08:34:00'),\n",
       "  Timestamp('2010-12-01 08:35:00'),\n",
       "  Timestamp('2010-12-01 08:45:00'),\n",
       "  Timestamp('2010-12-01 09:01:00'),\n",
       "  Timestamp('2010-12-01 09:02:00'),\n",
       "  Timestamp('2010-12-01 09:32:00'),\n",
       "  Timestamp('2010-12-01 09:34:00'),\n",
       "  Timestamp('2010-12-01 09:37:00'),\n",
       "  Timestamp('2010-12-01 09:41:00'),\n",
       "  Timestamp('2010-12-01 09:45:00'),\n",
       "  Timestamp('2010-12-01 09:53:00'),\n",
       "  Timestamp('2010-12-01 09:56:00'),\n",
       "  Timestamp('2010-12-01 09:59:00'),\n",
       "  Timestamp('2010-12-01 10:03:00'),\n",
       "  Timestamp('2010-12-01 10:19:00'),\n",
       "  Timestamp('2010-12-01 10:29:00'),\n",
       "  Timestamp('2010-12-01 10:39:00'),\n",
       "  Timestamp('2010-12-01 10:47:00'),\n",
       "  Timestamp('2010-12-01 10:51:00'),\n",
       "  Timestamp('2010-12-01 10:52:00'),\n",
       "  Timestamp('2010-12-01 10:53:00'),\n",
       "  Timestamp('2010-12-01 11:21:00'),\n",
       "  Timestamp('2010-12-01 11:27:00'),\n",
       "  Timestamp('2010-12-01 11:29:00'),\n",
       "  Timestamp('2010-12-01 11:33:00'),\n",
       "  Timestamp('2010-12-01 11:34:00'),\n",
       "  Timestamp('2010-12-01 11:41:00'),\n",
       "  Timestamp('2010-12-01 11:45:00'),\n",
       "  Timestamp('2010-12-01 11:49:00'),\n",
       "  Timestamp('2010-12-01 11:57:00'),\n",
       "  Timestamp('2010-12-01 11:58:00'),\n",
       "  Timestamp('2010-12-01 12:03:00'),\n",
       "  Timestamp('2010-12-01 12:08:00'),\n",
       "  Timestamp('2010-12-01 12:12:00'),\n",
       "  Timestamp('2010-12-01 12:15:00'),\n",
       "  Timestamp('2010-12-01 12:22:00'),\n",
       "  Timestamp('2010-12-01 12:23:00'),\n",
       "  Timestamp('2010-12-01 12:27:00'),\n",
       "  Timestamp('2010-12-01 12:31:00'),\n",
       "  Timestamp('2010-12-01 12:35:00'),\n",
       "  Timestamp('2010-12-01 12:36:00'),\n",
       "  Timestamp('2010-12-01 12:40:00'),\n",
       "  Timestamp('2010-12-01 12:43:00'),\n",
       "  Timestamp('2010-12-01 12:48:00'),\n",
       "  Timestamp('2010-12-01 12:49:00'),\n",
       "  Timestamp('2010-12-01 12:50:00'),\n",
       "  Timestamp('2010-12-01 12:51:00'),\n",
       "  Timestamp('2010-12-01 12:54:00'),\n",
       "  Timestamp('2010-12-01 12:58:00'),\n",
       "  Timestamp('2010-12-01 13:04:00'),\n",
       "  Timestamp('2010-12-01 13:17:00'),\n",
       "  Timestamp('2010-12-01 13:20:00'),\n",
       "  Timestamp('2010-12-01 13:21:00'),\n",
       "  Timestamp('2010-12-01 13:23:00'),\n",
       "  Timestamp('2010-12-01 13:24:00')],\n",
       " 'Currency': ['Currency'],\n",
       " 'Country': ['Country']}"
      ]
     },
     "execution_count": 55,
     "metadata": {},
     "output_type": "execute_result"
    }
   ],
   "execution_count": 55
  },
  {
   "metadata": {},
   "cell_type": "markdown",
   "source": "PART 3",
   "id": "df79ee9f2e11a5a8"
  },
  {
   "metadata": {
    "ExecuteTime": {
     "end_time": "2024-04-25T00:39:31.227646Z",
     "start_time": "2024-04-25T00:39:30.949185Z"
    }
   },
   "cell_type": "code",
   "source": "sns.histplot(df['UnitPrice']);",
   "id": "1e9f2d1f3abc3cd1",
   "outputs": [
    {
     "data": {
      "text/plain": [
       "<Figure size 640x480 with 1 Axes>"
      ],
      "image/png": "[encoded data removed]"
     },
     "metadata": {},
     "output_type": "display_data"
    }
   ],
   "execution_count": 57
  },
  {
   "metadata": {
    "ExecuteTime": {
     "end_time": "2024-04-25T00:40:13.153364Z",
     "start_time": "2024-04-25T00:40:12.932693Z"
    }
   },
   "cell_type": "code",
   "source": "sns.histplot(df['Quantity']);",
   "id": "26dafa9cd2500730",
   "outputs": [
    {
     "data": {
      "text/plain": [
       "<Figure size 640x480 with 1 Axes>"
      ],
      "image/png": "[encoded data removed]"
     },
     "metadata": {},
     "output_type": "display_data"
    }
   ],
   "execution_count": 58
  },
  {
   "metadata": {
    "ExecuteTime": {
     "end_time": "2024-04-25T00:40:28.271410Z",
     "start_time": "2024-04-25T00:40:28.057514Z"
    }
   },
   "cell_type": "code",
   "source": "sns.histplot(df['Amount']);",
   "id": "2ae7e6a2b288ebc8",
   "outputs": [
    {
     "data": {
      "text/plain": [
       "<Figure size 640x480 with 1 Axes>"
      ],
      "image/png": "[encoded data removed]"
     },
     "metadata": {},
     "output_type": "display_data"
    }
   ],
   "execution_count": 59
  }
 ],
 "metadata": {
  "kernelspec": {
   "display_name": "Python 3",
   "language": "python",
   "name": "python3"
  },
  "language_info": {
   "codemirror_mode": {
    "name": "ipython",
    "version": 2
   },
   "file_extension": ".py",
   "mimetype": "text/x-python",
   "name": "python",
   "nbconvert_exporter": "python",
   "pygments_lexer": "ipython2",
   "version": "2.7.6"
  }
 },
 "nbformat": 4,
 "nbformat_minor": 5
}
